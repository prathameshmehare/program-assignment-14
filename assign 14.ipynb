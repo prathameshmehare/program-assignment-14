{
 "cells": [
  {
   "cell_type": "code",
   "execution_count": 5,
   "id": "ec06e58e",
   "metadata": {},
   "outputs": [
    {
     "name": "stdout",
     "output_type": "stream",
     "text": [
      "7 14 21 28 35 42 49 56 63 70 "
     ]
    }
   ],
   "source": [
    "#1.define a class with a genearator wich can iterate the numbers wich are divisible by 7 between the given range 0 to n \n",
    "def gen_number(n):\n",
    "    for j in range(1,n+1):\n",
    "        if j%7 == 0 :\n",
    "            yield j \n",
    "if __name__ == \"__main__\":\n",
    "    n = 70\n",
    "    for j in gen_number(n):\n",
    "        print(j,end = \" \")"
   ]
  },
  {
   "cell_type": "code",
   "execution_count": 17,
   "id": "7c7a3ec0",
   "metadata": {},
   "outputs": [
    {
     "name": "stdout",
     "output_type": "stream",
     "text": [
      "type in :new to python or chosing between python 2 and python 3? read python 2 or python 3.\n",
      "[('new', 1)]\n",
      "new 1\n",
      "[('new', 1), ('to', 1)]\n",
      "new 1\n",
      "to 1\n",
      "[('new', 1), ('python', 1), ('to', 1)]\n",
      "new 1\n",
      "python 1\n",
      "to 1\n",
      "[('new', 1), ('or', 1), ('python', 1), ('to', 1)]\n",
      "new 1\n",
      "or 1\n",
      "python 1\n",
      "to 1\n",
      "[('chosing', 1), ('new', 1), ('or', 1), ('python', 1), ('to', 1)]\n",
      "chosing 1\n",
      "new 1\n",
      "or 1\n",
      "python 1\n",
      "to 1\n",
      "[('between', 1), ('chosing', 1), ('new', 1), ('or', 1), ('python', 1), ('to', 1)]\n",
      "between 1\n",
      "chosing 1\n",
      "new 1\n",
      "or 1\n",
      "python 1\n",
      "to 1\n",
      "[('between', 1), ('chosing', 1), ('new', 1), ('or', 1), ('python', 2), ('to', 1)]\n",
      "between 1\n",
      "chosing 1\n",
      "new 1\n",
      "or 1\n",
      "python 2\n",
      "to 1\n",
      "[('between', 1), ('chosing', 1), ('new', 1), ('or', 1), ('python', 2), ('to', 1)]\n",
      "between 1\n",
      "chosing 1\n",
      "new 1\n",
      "or 1\n",
      "python 2\n",
      "to 1\n",
      "[('and', 1), ('between', 1), ('chosing', 1), ('new', 1), ('or', 1), ('python', 2), ('to', 1)]\n",
      "and 1\n",
      "between 1\n",
      "chosing 1\n",
      "new 1\n",
      "or 1\n",
      "python 2\n",
      "to 1\n",
      "[('and', 1), ('between', 1), ('chosing', 1), ('new', 1), ('or', 1), ('python', 3), ('to', 1)]\n",
      "and 1\n",
      "between 1\n",
      "chosing 1\n",
      "new 1\n",
      "or 1\n",
      "python 3\n",
      "to 1\n",
      "[('and', 1), ('between', 1), ('chosing', 1), ('new', 1), ('or', 1), ('python', 3), ('to', 1)]\n",
      "and 1\n",
      "between 1\n",
      "chosing 1\n",
      "new 1\n",
      "or 1\n",
      "python 3\n",
      "to 1\n",
      "[('and', 1), ('between', 1), ('chosing', 1), ('new', 1), ('or', 1), ('python', 3), ('read', 1), ('to', 1)]\n",
      "and 1\n",
      "between 1\n",
      "chosing 1\n",
      "new 1\n",
      "or 1\n",
      "python 3\n",
      "read 1\n",
      "to 1\n",
      "[('and', 1), ('between', 1), ('chosing', 1), ('new', 1), ('or', 1), ('python', 4), ('read', 1), ('to', 1)]\n",
      "and 1\n",
      "between 1\n",
      "chosing 1\n",
      "new 1\n",
      "or 1\n",
      "python 4\n",
      "read 1\n",
      "to 1\n",
      "[('and', 1), ('between', 1), ('chosing', 1), ('new', 1), ('or', 1), ('python', 4), ('read', 1), ('to', 1)]\n",
      "and 1\n",
      "between 1\n",
      "chosing 1\n",
      "new 1\n",
      "or 1\n",
      "python 4\n",
      "read 1\n",
      "to 1\n",
      "[('and', 1), ('between', 1), ('chosing', 1), ('new', 1), ('or', 2), ('python', 4), ('read', 1), ('to', 1)]\n",
      "and 1\n",
      "between 1\n",
      "chosing 1\n",
      "new 1\n",
      "or 2\n",
      "python 4\n",
      "read 1\n",
      "to 1\n",
      "[('and', 1), ('between', 1), ('chosing', 1), ('new', 1), ('or', 2), ('python', 5), ('read', 1), ('to', 1)]\n",
      "and 1\n",
      "between 1\n",
      "chosing 1\n",
      "new 1\n",
      "or 2\n",
      "python 5\n",
      "read 1\n",
      "to 1\n",
      "[('and', 1), ('between', 1), ('chosing', 1), ('new', 1), ('or', 2), ('python', 5), ('read', 1), ('to', 1)]\n",
      "and 1\n",
      "between 1\n",
      "chosing 1\n",
      "new 1\n",
      "or 2\n",
      "python 5\n",
      "read 1\n",
      "to 1\n"
     ]
    }
   ],
   "source": [
    "#3.write a program to compute the frequency of words from the input the output should output after sorting the key \n",
    "#alphanumerically.import operator\n",
    "text_line = input(\"type in :\")\n",
    "freq_dict = {}\n",
    "for i in text_line.split(' '):\n",
    "    if i.isalpha():\n",
    "        if i not in freq_dict:\n",
    "            freq_dict[i]=1\n",
    "        elif i in freq_dict:\n",
    "            freq_dict[i]=freq_dict[i] +1\n",
    "    else:\n",
    "        pass\n",
    "    sorted_freq_dict = sorted(freq_dict.items(),key = operator.itemgetter(0))\n",
    "    print(sorted_freq_dict)\n",
    "    for i in sorted_freq_dict:\n",
    "        print(i[0],i[1])"
   ]
  },
  {
   "cell_type": "code",
   "execution_count": 18,
   "id": "4f359730",
   "metadata": {},
   "outputs": [
    {
     "name": "stdout",
     "output_type": "stream",
     "text": [
      "male\n",
      "female \n"
     ]
    }
   ],
   "source": [
    "#3.define a class person and its two child classes:male and female .all calasses have a method 'getGender' Wich can print\n",
    "#\"male\" for \"female\" for female class.\n",
    "class person(object):\n",
    "    def getgender(self):\n",
    "        return \"unknown\"\n",
    "class male(person):\n",
    "    def getgender(self):\n",
    "        return \"male\"\n",
    "class female(person):\n",
    "    def getgender(self):\n",
    "        return \"female \"\n",
    "\n",
    "amale = male()\n",
    "afemale = female()\n",
    "print(amale.getgender())\n",
    "print(afemale.getgender())"
   ]
  },
  {
   "cell_type": "code",
   "execution_count": 24,
   "id": "4710211b",
   "metadata": {},
   "outputs": [
    {
     "name": "stdout",
     "output_type": "stream",
     "text": [
      "I play hockey\n",
      "I play football\n",
      "I love hockey\n",
      "I love football\n",
      "You play hockey\n",
      "You play football\n",
      "You love hockey\n",
      "You love football\n"
     ]
    }
   ],
   "source": [
    "#4.please write a program to generate all sentenses where subjects is in ['i',\"you\"] and verb is in [\"play\",\"love\"] and the\n",
    "#object  is in [\"hockey\",\"football\"]\n",
    "subjects = [\"I\",\"You\"]\n",
    "verbs = [\"play\",\"love\"]\n",
    "objects = [\"hockey\",\"football\"]\n",
    "res = [[i,j,k] \n",
    "      for i in subjects\n",
    "      for j in verbs \n",
    "      for k in objects ]\n",
    "for x in res:\n",
    "    print(\" \".join(x))\n",
    "    \n"
   ]
  },
  {
   "cell_type": "code",
   "execution_count": 29,
   "id": "63230859",
   "metadata": {},
   "outputs": [
    {
     "name": "stdout",
     "output_type": "stream",
     "text": [
      "b'x\\x9cS\\xc8H\\xcd\\xc9\\xc9W(\\xcf/JQT \\x86\\r\\x00\\xab\\xa0\\x10\\xe5'\n",
      "b' hello word! hello word! hello word! hello word! '\n"
     ]
    }
   ],
   "source": [
    "#5.please write program to compress and decompress the string ' hello word! hello word! hello word! hello word! '\n",
    "s = ' hello word! hello word! hello word! hello word! '\n",
    "y =bytes(s,'utf-8')\n",
    "x = zlib.compress(y)\n",
    "print(x)\n",
    "print(zlib.decompress(x))"
   ]
  },
  {
   "cell_type": "code",
   "execution_count": 31,
   "id": "1d8c89ac",
   "metadata": {},
   "outputs": [
    {
     "name": "stdout",
     "output_type": "stream",
     "text": [
      "first occurrence of  4 is present at 2\n"
     ]
    }
   ],
   "source": [
    "#6.plese write a binery search wich serarch function an item in a sorted list.the function should return should return the index \n",
    "#of element to be search in the list .\n",
    "from bisect import bisect_left\n",
    "def BinarySearch(a,x):\n",
    "    i = bisect_left (a,x)\n",
    "    if i !=len(a) and a[i] == x:\n",
    "        return i\n",
    "    else :\n",
    "        return -1\n",
    "a = [1,2,4,56]\n",
    "x = int(4)\n",
    "res = BinarySearch(a,x)\n",
    "if res == -1:\n",
    "    print(x,\"is absent\")\n",
    "else:\n",
    "    print(\"first occurrence of \",x,\"is present at\",res)"
   ]
  },
  {
   "cell_type": "code",
   "execution_count": null,
   "id": "a5f54ab3",
   "metadata": {},
   "outputs": [],
   "source": []
  }
 ],
 "metadata": {
  "kernelspec": {
   "display_name": "Python 3 (ipykernel)",
   "language": "python",
   "name": "python3"
  },
  "language_info": {
   "codemirror_mode": {
    "name": "ipython",
    "version": 3
   },
   "file_extension": ".py",
   "mimetype": "text/x-python",
   "name": "python",
   "nbconvert_exporter": "python",
   "pygments_lexer": "ipython3",
   "version": "3.9.7"
  }
 },
 "nbformat": 4,
 "nbformat_minor": 5
}
